{
 "cells": [
  {
   "cell_type": "code",
   "execution_count": 5,
   "metadata": {},
   "outputs": [],
   "source": [
    "import pandas as pd"
   ]
  },
  {
   "cell_type": "markdown",
   "metadata": {},
   "source": [
    "### Alan Kodları ve Şehirler Sözlüğü"
   ]
  },
  {
   "cell_type": "code",
   "execution_count": 2,
   "metadata": {},
   "outputs": [
    {
     "data": {
      "text/plain": [
       "83"
      ]
     },
     "execution_count": 2,
     "metadata": {},
     "output_type": "execute_result"
    }
   ],
   "source": [
    "sehir_kod_dict = {'322': 'ADANA', '416': 'ADIYAMAN', '272' : 'AFYON',\n",
    "                 '472':'AĞRI', '382':'AKSARAY','358':'AMASYA','312':'ANKARA',\n",
    "                  '242':'ANTALYA','478':'ARDAHAN','466':'ARTVİN','256':'AYDIN',\n",
    "                  '266':'BALIKESİR','378':'BARTIN','488':'BATMAN','458':'BAYBURT',\n",
    "                  '228':'BİLECİK','426':'BİNGÖL','434':'BİTLİS','374':'BOLU','248':'BURDUR',\n",
    "                  '224':'BURSA','286':'ÇANAKKALE','376':'ÇANKIRI','364':'ÇORUM',\n",
    "                  '258':'DENİZLİ','412':'DİYARBAKIR','380':'DÜZCE','284':'EDİRNE',\n",
    "                  '424':'ELAZIĞ','446':'ERZİNCAN','442':'ERZURUM',\n",
    "                  '222':'ESKİŞEHİR','342':'GAZİANTEP','454':'GİRESUN','456':'GÜMÜŞHANE',\n",
    "                  '438':'HAKKARİ','326':'HATAY','476':'IĞDIR','246':'ISPARTA','324':'İÇEL','212':'İSTANBUL',\n",
    "                  '216':'İSTANBUL','232':'İZMİR','370':'KARABÜK','338':'KARAMAN','474':'KARS','366':'KASTAMONU',\n",
    "                  '352':'KAYSERİ','318':'KIRIKKALE','288':'KIRKLARELİ','386':'KIRŞEHİR',\n",
    "                  '348':'KİLİS','344':'KAHRAMANMARAŞ','262':'KOCAELİ','332':'KONYA','274':'KÜTAHYA',\n",
    "                  '422':'MALATYA','236':'MANİSA','482':'MARDİN','252':'MUĞLA','436':'MUŞ',\n",
    "                  '384':'NEVŞEHİR','388':'NİĞDE','452':'ORDU','328':'OSMANİYE','464':'RİZE',\n",
    "                  '264':'SAKARYA','362':'SAMSUN','484':'SİİRT','368':'SİNOP','346':'SİVAS',\n",
    "                  '414':'ŞANLIURFA','486':'ŞIRNAK','282':'TEKİRDAĞ','356':'TOKAT','462':'TRABZON','428':'TUNCELİ',\n",
    "                  '276':'UŞAK','432':'VAN','226':'YALOVA','354':'YOZGAT',\n",
    "                  '372':'ZONGULDAK','392':'K.K.T.C.'}\n",
    "len(sehir_kod_dict)"
   ]
  },
  {
   "cell_type": "markdown",
   "metadata": {},
   "source": [
    "### DataFrame için ayrılmış Alan Kodları ve Şehirler Sözlüğü"
   ]
  },
  {
   "cell_type": "code",
   "execution_count": 3,
   "metadata": {},
   "outputs": [
    {
     "data": {
      "text/plain": [
       "112"
      ]
     },
     "execution_count": 3,
     "metadata": {},
     "output_type": "execute_result"
    }
   ],
   "source": [
    "sehir_ad= ['ADANA', 'ADIYAMAN', 'AFYON', 'AĞRI', 'AKSARAY', 'AMASYA', 'ANKARA', 'ANTALYA', 'ARDAHAN', 'ARTVİN',  'AYDIN',\n",
    "          'BALIKESİR', 'BARTIN', 'BATMAN', 'BAYBURT', 'BİLECİK', 'BİNGÖL', 'BİTLİS', 'BOLU', 'BURDUR','BURSA','ÇANAKKALE','ÇANKIRI','ÇORUM',\n",
    "                  'DENİZLİ','DİYARBAKIR','DÜZCE','EDİRNE',\n",
    "                  'ELAZIĞ','ERZİNCAN','ERZURUM',\n",
    "                 'ESKİŞEHİR','GAZİANTEP','GİRESUN','GÜMÜŞHANE',\n",
    "                  'HAKKARİ','HATAY','IĞDIR','ISPARTA','İÇEL','İSTANBUL',\n",
    "                  'İSTANBUL','İZMİR','KARABÜK','KARAMAN','KARS','KASTAMONU',\n",
    "                  'KAYSERİ','KIRIKKALE','KIRKLARELİ','KIRŞEHİR',\n",
    "                  'KİLİS','KAHRAMANMARAŞ','KOCAELİ','KONYA','KÜTAHYA',\n",
    "                  'MALATYA','MANİSA','MARDİN','MUĞLA','MUŞ',\n",
    "                  'NEVŞEHİR','NİĞDE','ORDU','OSMANİYE','RİZE',\n",
    "                  'SAKARYA','SAMSUN','SİİRT','SİNOP','SİVAS',\n",
    "                  'ŞANLIURFA','ŞIRNAK','TEKİRDAĞ','TOKAT','TRABZON','TUNCELİ',\n",
    "                  'UŞAK','VAN','YALOVA','YOZGAT',\n",
    "                  'ZONGULDAK','K.K.T.C.', 'TURK TELEKOM', 'TURK TELEKOM', \n",
    "                'TURK TELEKOM', 'TURK TELEKOM', 'TURK TELEKOM', 'TURK TELEKOM',\n",
    "                 'TURK TELEKOM''TURK TELEKOM', 'TURK TELEKOM', 'TURK TELEKOM'\n",
    "                  , 'TURKCELL', 'TURKCELL', 'TURKCELL', 'TURKCELL', 'TURKCELL'\n",
    "                  , 'TURKCELL', 'TURKCELL', 'TURKCELL', 'TURKCELL', 'TURKCELL', \n",
    "                  'VODAFONE', 'VODAFONE', 'VODAFONE', 'VODAFONE', 'VODAFONE', 'VODAFONE'\n",
    "                  , 'VODAFONE', 'VODAFONE', 'VODAFONE', 'VODAFONE']\n",
    "len(sehir_ad) \n"
   ]
  },
  {
   "cell_type": "code",
   "execution_count": 4,
   "metadata": {},
   "outputs": [
    {
     "data": {
      "text/plain": [
       "112"
      ]
     },
     "execution_count": 4,
     "metadata": {},
     "output_type": "execute_result"
    }
   ],
   "source": [
    "alan_kod = ['322', '416', '272' ,'472', '382','358','312','242','478','466','256',\n",
    "                  '266','378','488','458',\n",
    "                  '228','426','434','374','248',\n",
    "                  '224','286','376','364',\n",
    "                  '258','412','380','284',\n",
    "                  '424','446','442','222','342','454','456',\n",
    "                  '438','326','476','246','324','212',\n",
    "                  '216','232','370','338','474','366',\n",
    "                  '352','318','288','386',\n",
    "                  '348','344','262','332','274',\n",
    "                  '422','236','482','252','436',\n",
    "                  '384','388','452','328','464',\n",
    "                  '264','362','484','368','346',\n",
    "                  '414','486','282','356','462','428',\n",
    "                  '276','432','226','354',\n",
    "                  '372','392', '501', '505', '506', '507', '551' , '552', '553', '554', '555', '559'\n",
    "                  '530', '531', '532', '533', '534', '535', '536', '537', '538', '539', '561'\n",
    "                  '540', '541', '542', '543', '544', '545', '546', '547', '548', '549']\n",
    "len(alan_kod)"
   ]
  },
  {
   "cell_type": "code",
   "execution_count": null,
   "metadata": {},
   "outputs": [],
   "source": [
    "Sehir = pd.DataFrame({'ALAN_KOD' : alan_kod, \n",
    "                      'SEHIR' : sehir_ad})"
   ]
  }
 ],
 "metadata": {
  "kernelspec": {
   "display_name": "Python 3",
   "language": "python",
   "name": "python3"
  },
  "language_info": {
   "codemirror_mode": {
    "name": "ipython",
    "version": 3
   },
   "file_extension": ".py",
   "mimetype": "text/x-python",
   "name": "python",
   "nbconvert_exporter": "python",
   "pygments_lexer": "ipython3",
   "version": "3.7.3"
  }
 },
 "nbformat": 4,
 "nbformat_minor": 2
}
